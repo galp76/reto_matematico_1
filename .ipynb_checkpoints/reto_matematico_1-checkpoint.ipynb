{
 "cells": [
  {
   "cell_type": "code",
   "execution_count": null,
   "id": "lined-island",
   "metadata": {},
   "outputs": [],
   "source": [
    "import random\n",
    "import time\n",
    "import ahorcado\n",
    "\n",
    "n = 0\n",
    "aciertos = 0\n",
    "\n",
    "while True:\n",
    "    numero1 = random.randint(1, 10)\n",
    "    numero2 = random.randint(1, 10)\n",
    "    producto = numero1 * numero2\n",
    "    time.sleep(2)\n",
    "    \n",
    "    print(f'Cuanto es {numero1} * {numero2}?')\n",
    "    resultado = int(input())\n",
    "    time.sleep(2)\n",
    "    if resultado != producto:\n",
    "        n = n + 1\n",
    "        if n == 10:\n",
    "            print('Incorrecto...')\n",
    "            time.sleep(2)\n",
    "            ahorcado.formato(n)\n",
    "            print('Perdiste...')\n",
    "            time.sleep(2)\n",
    "            print('Intenta de nuevo...')\n",
    "            break\n",
    "        else:\n",
    "            print('Incorrecto...')\n",
    "            time.sleep(2)\n",
    "            ahorcado.formato(n)\n",
    "    else:\n",
    "        aciertos = aciertos + 1\n",
    "        if aciertos == 10:\n",
    "            print('Correcto!!!')\n",
    "            time.sleep(2)\n",
    "            print('Alcanzaste los 10 aciertos!!!')\n",
    "            time.sleep(2)\n",
    "            print('Buen juego!!!')\n",
    "            break\n",
    "        else:\n",
    "            print('Correcto!!!')\n",
    "            time.sleep(2)\n",
    "            print(f'Llevas {aciertos} aciertos!!!')\n",
    "\n",
    "\n",
    "\n"
   ]
  }
 ],
 "metadata": {
  "kernelspec": {
   "display_name": "Python 3",
   "language": "python",
   "name": "python3"
  },
  "language_info": {
   "codemirror_mode": {
    "name": "ipython",
    "version": 3
   },
   "file_extension": ".py",
   "mimetype": "text/x-python",
   "name": "python",
   "nbconvert_exporter": "python",
   "pygments_lexer": "ipython3",
   "version": "3.9.2"
  }
 },
 "nbformat": 4,
 "nbformat_minor": 5
}
